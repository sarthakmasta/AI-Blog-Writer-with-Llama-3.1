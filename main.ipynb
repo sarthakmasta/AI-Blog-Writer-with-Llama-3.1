{
 "cells": [
  {
   "cell_type": "markdown",
   "metadata": {
    "id": "ZeaYM7VPUqLf"
   },
   "source": [
    "# AI Blog Writer with Multi-Style Generation  \n",
    "\n",
    "This notebook walks through exploring transformer architecture and prompt engineering using the Llama 3.1 8B Instruct model.  \n",
    "\n",
    "## Notebook Highlights:  \n",
    "- Load the Llama 3.1 model with 4-bit quantization  \n",
    "- Explore its layers, attention mechanisms, and parameters  \n",
    "- Use prompt engineering to generate content in five different writing styles  \n",
    "- Build an interactive Gradio app for generating blogs  \n",
    "\n",
    "**Model used:** `meta-llama/Llama-3.1-8B-Instruct` (8.03B parameters)"
   ]
  },
  {
   "cell_type": "markdown",
   "metadata": {
    "id": "tm0LwFMhUv0i"
   },
   "source": [
    "## Step 1. Setup and Installation of Libraries"
   ]
  },
  {
   "cell_type": "code",
   "execution_count": 32,
   "metadata": {
    "colab": {
     "base_uri": "https://localhost:8080/"
    },
    "id": "aVvxkswDUwXT",
    "outputId": "1d186489-8abe-4b3a-f7e9-2640b14103a2"
   },
   "outputs": [
    {
     "name": "stdout",
     "output_type": "stream",
     "text": [
      "Requirement already satisfied: transformers in /usr/local/lib/python3.12/dist-packages (4.56.2)\n",
      "Requirement already satisfied: accelerate in /usr/local/lib/python3.12/dist-packages (1.10.1)\n",
      "Requirement already satisfied: torch in /usr/local/lib/python3.12/dist-packages (2.8.0+cu126)\n",
      "Requirement already satisfied: gradio in /usr/local/lib/python3.12/dist-packages (5.47.2)\n",
      "Requirement already satisfied: bitsandbytes in /usr/local/lib/python3.12/dist-packages (0.48.1)\n",
      "Requirement already satisfied: matplotlib in /usr/local/lib/python3.12/dist-packages (3.10.0)\n",
      "Requirement already satisfied: huggingface_hub in /usr/local/lib/python3.12/dist-packages (0.35.3)\n",
      "Requirement already satisfied: filelock in /usr/local/lib/python3.12/dist-packages (from transformers) (3.19.1)\n",
      "Requirement already satisfied: numpy>=1.17 in /usr/local/lib/python3.12/dist-packages (from transformers) (2.0.2)\n",
      "Requirement already satisfied: packaging>=20.0 in /usr/local/lib/python3.12/dist-packages (from transformers) (25.0)\n",
      "Requirement already satisfied: pyyaml>=5.1 in /usr/local/lib/python3.12/dist-packages (from transformers) (6.0.3)\n",
      "Requirement already satisfied: regex!=2019.12.17 in /usr/local/lib/python3.12/dist-packages (from transformers) (2024.11.6)\n",
      "Requirement already satisfied: requests in /usr/local/lib/python3.12/dist-packages (from transformers) (2.32.4)\n",
      "Requirement already satisfied: tokenizers<=0.23.0,>=0.22.0 in /usr/local/lib/python3.12/dist-packages (from transformers) (0.22.1)\n",
      "Requirement already satisfied: safetensors>=0.4.3 in /usr/local/lib/python3.12/dist-packages (from transformers) (0.6.2)\n",
      "Requirement already satisfied: tqdm>=4.27 in /usr/local/lib/python3.12/dist-packages (from transformers) (4.67.1)\n",
      "Requirement already satisfied: psutil in /usr/local/lib/python3.12/dist-packages (from accelerate) (5.9.5)\n",
      "Requirement already satisfied: typing-extensions>=4.10.0 in /usr/local/lib/python3.12/dist-packages (from torch) (4.15.0)\n",
      "Requirement already satisfied: setuptools in /usr/local/lib/python3.12/dist-packages (from torch) (75.2.0)\n",
      "Requirement already satisfied: sympy>=1.13.3 in /usr/local/lib/python3.12/dist-packages (from torch) (1.13.3)\n",
      "Requirement already satisfied: networkx in /usr/local/lib/python3.12/dist-packages (from torch) (3.5)\n",
      "Requirement already satisfied: jinja2 in /usr/local/lib/python3.12/dist-packages (from torch) (3.1.6)\n",
      "Requirement already satisfied: fsspec in /usr/local/lib/python3.12/dist-packages (from torch) (2025.3.0)\n",
      "Requirement already satisfied: nvidia-cuda-nvrtc-cu12==12.6.77 in /usr/local/lib/python3.12/dist-packages (from torch) (12.6.77)\n",
      "Requirement already satisfied: nvidia-cuda-runtime-cu12==12.6.77 in /usr/local/lib/python3.12/dist-packages (from torch) (12.6.77)\n",
      "Requirement already satisfied: nvidia-cuda-cupti-cu12==12.6.80 in /usr/local/lib/python3.12/dist-packages (from torch) (12.6.80)\n",
      "Requirement already satisfied: nvidia-cudnn-cu12==9.10.2.21 in /usr/local/lib/python3.12/dist-packages (from torch) (9.10.2.21)\n",
      "Requirement already satisfied: nvidia-cublas-cu12==12.6.4.1 in /usr/local/lib/python3.12/dist-packages (from torch) (12.6.4.1)\n",
      "Requirement already satisfied: nvidia-cufft-cu12==11.3.0.4 in /usr/local/lib/python3.12/dist-packages (from torch) (11.3.0.4)\n",
      "Requirement already satisfied: nvidia-curand-cu12==10.3.7.77 in /usr/local/lib/python3.12/dist-packages (from torch) (10.3.7.77)\n",
      "Requirement already satisfied: nvidia-cusolver-cu12==11.7.1.2 in /usr/local/lib/python3.12/dist-packages (from torch) (11.7.1.2)\n",
      "Requirement already satisfied: nvidia-cusparse-cu12==12.5.4.2 in /usr/local/lib/python3.12/dist-packages (from torch) (12.5.4.2)\n",
      "Requirement already satisfied: nvidia-cusparselt-cu12==0.7.1 in /usr/local/lib/python3.12/dist-packages (from torch) (0.7.1)\n",
      "Requirement already satisfied: nvidia-nccl-cu12==2.27.3 in /usr/local/lib/python3.12/dist-packages (from torch) (2.27.3)\n",
      "Requirement already satisfied: nvidia-nvtx-cu12==12.6.77 in /usr/local/lib/python3.12/dist-packages (from torch) (12.6.77)\n",
      "Requirement already satisfied: nvidia-nvjitlink-cu12==12.6.85 in /usr/local/lib/python3.12/dist-packages (from torch) (12.6.85)\n",
      "Requirement already satisfied: nvidia-cufile-cu12==1.11.1.6 in /usr/local/lib/python3.12/dist-packages (from torch) (1.11.1.6)\n",
      "Requirement already satisfied: triton==3.4.0 in /usr/local/lib/python3.12/dist-packages (from torch) (3.4.0)\n",
      "Requirement already satisfied: aiofiles<25.0,>=22.0 in /usr/local/lib/python3.12/dist-packages (from gradio) (24.1.0)\n",
      "Requirement already satisfied: anyio<5.0,>=3.0 in /usr/local/lib/python3.12/dist-packages (from gradio) (4.11.0)\n",
      "Requirement already satisfied: brotli>=1.1.0 in /usr/local/lib/python3.12/dist-packages (from gradio) (1.1.0)\n",
      "Requirement already satisfied: fastapi<1.0,>=0.115.2 in /usr/local/lib/python3.12/dist-packages (from gradio) (0.118.0)\n",
      "Requirement already satisfied: ffmpy in /usr/local/lib/python3.12/dist-packages (from gradio) (0.6.1)\n",
      "Requirement already satisfied: gradio-client==1.13.3 in /usr/local/lib/python3.12/dist-packages (from gradio) (1.13.3)\n",
      "Requirement already satisfied: groovy~=0.1 in /usr/local/lib/python3.12/dist-packages (from gradio) (0.1.2)\n",
      "Requirement already satisfied: httpx<1.0,>=0.24.1 in /usr/local/lib/python3.12/dist-packages (from gradio) (0.28.1)\n",
      "Requirement already satisfied: markupsafe<4.0,>=2.0 in /usr/local/lib/python3.12/dist-packages (from gradio) (3.0.3)\n",
      "Requirement already satisfied: orjson~=3.0 in /usr/local/lib/python3.12/dist-packages (from gradio) (3.11.3)\n",
      "Requirement already satisfied: pandas<3.0,>=1.0 in /usr/local/lib/python3.12/dist-packages (from gradio) (2.2.2)\n",
      "Requirement already satisfied: pillow<12.0,>=8.0 in /usr/local/lib/python3.12/dist-packages (from gradio) (11.3.0)\n",
      "Requirement already satisfied: pydantic<2.12,>=2.0 in /usr/local/lib/python3.12/dist-packages (from gradio) (2.11.9)\n",
      "Requirement already satisfied: pydub in /usr/local/lib/python3.12/dist-packages (from gradio) (0.25.1)\n",
      "Requirement already satisfied: python-multipart>=0.0.18 in /usr/local/lib/python3.12/dist-packages (from gradio) (0.0.20)\n",
      "Requirement already satisfied: ruff>=0.9.3 in /usr/local/lib/python3.12/dist-packages (from gradio) (0.13.2)\n",
      "Requirement already satisfied: safehttpx<0.2.0,>=0.1.6 in /usr/local/lib/python3.12/dist-packages (from gradio) (0.1.6)\n",
      "Requirement already satisfied: semantic-version~=2.0 in /usr/local/lib/python3.12/dist-packages (from gradio) (2.10.0)\n",
      "Requirement already satisfied: starlette<1.0,>=0.40.0 in /usr/local/lib/python3.12/dist-packages (from gradio) (0.48.0)\n",
      "Requirement already satisfied: tomlkit<0.14.0,>=0.12.0 in /usr/local/lib/python3.12/dist-packages (from gradio) (0.13.3)\n",
      "Requirement already satisfied: typer<1.0,>=0.12 in /usr/local/lib/python3.12/dist-packages (from gradio) (0.19.2)\n",
      "Requirement already satisfied: uvicorn>=0.14.0 in /usr/local/lib/python3.12/dist-packages (from gradio) (0.37.0)\n",
      "Requirement already satisfied: websockets<16.0,>=13.0 in /usr/local/lib/python3.12/dist-packages (from gradio-client==1.13.3->gradio) (15.0.1)\n",
      "Requirement already satisfied: contourpy>=1.0.1 in /usr/local/lib/python3.12/dist-packages (from matplotlib) (1.3.3)\n",
      "Requirement already satisfied: cycler>=0.10 in /usr/local/lib/python3.12/dist-packages (from matplotlib) (0.12.1)\n",
      "Requirement already satisfied: fonttools>=4.22.0 in /usr/local/lib/python3.12/dist-packages (from matplotlib) (4.60.1)\n",
      "Requirement already satisfied: kiwisolver>=1.3.1 in /usr/local/lib/python3.12/dist-packages (from matplotlib) (1.4.9)\n",
      "Requirement already satisfied: pyparsing>=2.3.1 in /usr/local/lib/python3.12/dist-packages (from matplotlib) (3.2.5)\n",
      "Requirement already satisfied: python-dateutil>=2.7 in /usr/local/lib/python3.12/dist-packages (from matplotlib) (2.9.0.post0)\n",
      "Requirement already satisfied: hf-xet<2.0.0,>=1.1.3 in /usr/local/lib/python3.12/dist-packages (from huggingface_hub) (1.1.10)\n",
      "Requirement already satisfied: idna>=2.8 in /usr/local/lib/python3.12/dist-packages (from anyio<5.0,>=3.0->gradio) (3.10)\n",
      "Requirement already satisfied: sniffio>=1.1 in /usr/local/lib/python3.12/dist-packages (from anyio<5.0,>=3.0->gradio) (1.3.1)\n",
      "Requirement already satisfied: certifi in /usr/local/lib/python3.12/dist-packages (from httpx<1.0,>=0.24.1->gradio) (2025.8.3)\n",
      "Requirement already satisfied: httpcore==1.* in /usr/local/lib/python3.12/dist-packages (from httpx<1.0,>=0.24.1->gradio) (1.0.9)\n",
      "Requirement already satisfied: h11>=0.16 in /usr/local/lib/python3.12/dist-packages (from httpcore==1.*->httpx<1.0,>=0.24.1->gradio) (0.16.0)\n",
      "Requirement already satisfied: pytz>=2020.1 in /usr/local/lib/python3.12/dist-packages (from pandas<3.0,>=1.0->gradio) (2025.2)\n",
      "Requirement already satisfied: tzdata>=2022.7 in /usr/local/lib/python3.12/dist-packages (from pandas<3.0,>=1.0->gradio) (2025.2)\n",
      "Requirement already satisfied: annotated-types>=0.6.0 in /usr/local/lib/python3.12/dist-packages (from pydantic<2.12,>=2.0->gradio) (0.7.0)\n",
      "Requirement already satisfied: pydantic-core==2.33.2 in /usr/local/lib/python3.12/dist-packages (from pydantic<2.12,>=2.0->gradio) (2.33.2)\n",
      "Requirement already satisfied: typing-inspection>=0.4.0 in /usr/local/lib/python3.12/dist-packages (from pydantic<2.12,>=2.0->gradio) (0.4.2)\n",
      "Requirement already satisfied: six>=1.5 in /usr/local/lib/python3.12/dist-packages (from python-dateutil>=2.7->matplotlib) (1.17.0)\n",
      "Requirement already satisfied: mpmath<1.4,>=1.1.0 in /usr/local/lib/python3.12/dist-packages (from sympy>=1.13.3->torch) (1.3.0)\n",
      "Requirement already satisfied: click>=8.0.0 in /usr/local/lib/python3.12/dist-packages (from typer<1.0,>=0.12->gradio) (8.3.0)\n",
      "Requirement already satisfied: shellingham>=1.3.0 in /usr/local/lib/python3.12/dist-packages (from typer<1.0,>=0.12->gradio) (1.5.4)\n",
      "Requirement already satisfied: rich>=10.11.0 in /usr/local/lib/python3.12/dist-packages (from typer<1.0,>=0.12->gradio) (13.9.4)\n",
      "Requirement already satisfied: charset_normalizer<4,>=2 in /usr/local/lib/python3.12/dist-packages (from requests->transformers) (3.4.3)\n",
      "Requirement already satisfied: urllib3<3,>=1.21.1 in /usr/local/lib/python3.12/dist-packages (from requests->transformers) (2.5.0)\n",
      "Requirement already satisfied: markdown-it-py>=2.2.0 in /usr/local/lib/python3.12/dist-packages (from rich>=10.11.0->typer<1.0,>=0.12->gradio) (4.0.0)\n",
      "Requirement already satisfied: pygments<3.0.0,>=2.13.0 in /usr/local/lib/python3.12/dist-packages (from rich>=10.11.0->typer<1.0,>=0.12->gradio) (2.19.2)\n",
      "Requirement already satisfied: mdurl~=0.1 in /usr/local/lib/python3.12/dist-packages (from markdown-it-py>=2.2.0->rich>=10.11.0->typer<1.0,>=0.12->gradio) (0.1.2)\n"
     ]
    }
   ],
   "source": [
    "!pip install transformers accelerate torch gradio bitsandbytes matplotlib huggingface_hub"
   ]
  },
  {
   "cell_type": "code",
   "execution_count": 33,
   "metadata": {
    "id": "Kgdo-IYkUzUn"
   },
   "outputs": [],
   "source": [
    "import gradio as gr\n",
    "from google.colab import userdata\n",
    "from huggingface_hub import login\n",
    "from transformers import AutoTokenizer, AutoModelForCausalLM, BitsAndBytesConfig, TextStreamer\n",
    "import torch\n",
    "import matplotlib.pyplot as plt\n",
    "import torch.nn.functional as F\n",
    "import gc"
   ]
  },
  {
   "cell_type": "markdown",
   "metadata": {
    "id": "Re38-RxkU3oK"
   },
   "source": [
    "## Step 2. Loading the Model and Exploring the Architecture"
   ]
  },
  {
   "cell_type": "code",
   "execution_count": 34,
   "metadata": {
    "colab": {
     "base_uri": "https://localhost:8080/",
     "height": 418,
     "referenced_widgets": [
      "0e285ab4896f40bb9974f55bbe410c9a",
      "a4ca6627961a476daa47cff62ea72406",
      "65758367559e479a88329f7882e9e3a2",
      "067c2bd2a3fe493b97f6a29de842fc25",
      "da826daf08aa4b44aeac02492b67ce37",
      "45fbfd46d6ae49889b00f5dadb31646f",
      "1b2bf6965faf418598a4c57c8d23ab80",
      "d07d44f5dafb469babbe2d1a10ab3c53",
      "7b47ff842b294f5582d48c33562701fa",
      "0a53eff9ec034b98bdc40726f3eebe4e",
      "70ccea34137e4ddf88573e760a0d3585",
      "fa776374cb9149e0af35aadc00aa385e",
      "f286e948078248658ba3371751678c3e",
      "d1af1a8a872448e089d99d61e671221b",
      "1bbb4df965c44c0aabdfcd12629ecf1f",
      "246f7b23156a4e55b4dbd609650b165d",
      "20eff5482afa45ef8a2ba6529393c976",
      "63b3a9afba85458f91700fbdd2b77832",
      "c80673c743cd417f9de76c0f816e744b",
      "09015462aff340df9e558ea65e40b456",
      "306069ac45a04b0ea4723ceb05ac611a",
      "fdc84da8765d4560ba3d09b0c5e89224",
      "f1d16361f2134d78b65c88bd14b62667",
      "29a39525e2354f0abf8ac0161eb76f85",
      "827b00df06f04ac7a5785b132e618a5d",
      "a0f0afd3007a4aa88b2381b008f2ac66",
      "9a41df77cee645a4916df78427de7744",
      "e756501a3e9042c5915421b0605a2750",
      "48d89dd27c0b424a80cc96a6d9f1d597",
      "c766ed877ce449e0815e64e30b0cf520",
      "ae81938d3f774f37b63d9152f0a48f61",
      "62817cd93035450885608d8698ef1e78",
      "026177eeedf0492a90b47db769c54f70",
      "417d8b8027a5408283d52818deb733ee",
      "a5932fab3fd04d9e8cc8f8ba16da6919",
      "e500c618e2c54589b460c7774199a70d",
      "a382541631ae49d5ab862da1cf4b070e",
      "a3364784626548fd8033c83d2648b48e",
      "5de8c4bb789f4edc8b28cf6ac2342be5",
      "8fdb6a5e33114acba616ec62c036d900",
      "2a3354001e88453da42c7dd13d364802",
      "de7cc34bc1ab42cd9bce7a2c38119fff",
      "33b66ba5dc6c442d8d1685483236d5cd",
      "9fe9ce9a05d34e98850f452a4e6b34bb",
      "c17abee0306044fabe849c93253d76e5",
      "e4f2fc8b58194bf7b52224a49163a494",
      "90af4e31e71c401d978440f4658e6f4b",
      "db749bdbebfd4078b8ea909333f1b5be",
      "d5a08997a3524d83930bd4cde18be442",
      "f1d150d2c8a946e9b5e19ed007feebce",
      "5d197126954d4a9d84ab63aabdb504e9",
      "76c7314d6ec04fdd9ad2507d11671250",
      "50989db9f5bc4e059f22a05df96dcd08",
      "6b58242045e64373804dee164d751be1",
      "1e671d7bdc6a4f15b38ed195e492d70e",
      "03549c651f964b1f924fe201eec7e641",
      "62fcd6a75e494d5f86636e58e72386c0",
      "427d06526aa9493e9f6b03d73279c6e6",
      "dd1ee608d67542f68efc93a0c12c3298",
      "26ab6f7091504c48a7e3b6973d404dc1",
      "9eae4c8a08e04567aa1e0b95eb901094",
      "a9fca00750004db198ba409e806c75da",
      "3a6dd16372e944d9aab7b5970f2cd2cd",
      "e95a05c440d148f78cf865ef396ddc9f",
      "4734356d3577451594d5ef27a0166341",
      "8a0d934e7d774117a80ddc3b69cf1a45",
      "a67f561e05d54c08873c9b7879a4f962",
      "bcbb3e2451d0480483183ea6fa36bed4",
      "980f9e690a4f4af4beb01b5d7b48ae91",
      "b18bdc6c7c79401ab2aafac574b36acb",
      "616fb79c23da4ff985a00104c6c25646",
      "f67bf401d0bd43d796f267cc7b6b6d1c",
      "769bf3cb86d34a9bb72ac14389285bc6",
      "57630c768d414273b0e03c9e816de248",
      "e63f05754bcc4e0ebf00469cdf235033",
      "7520f152166c44f1999b22d9dc52914e",
      "d8dd960213824bc6839950bd5e29fec9",
      "5774fff7f7594fc8ae83f175c5b72ad5",
      "485c011df7094ca1ac8ea8d4562c5729",
      "0aab6524ff334db5ad848c295410497a",
      "483f856bea1640c7808c80b48c51b6d7",
      "6c5cdb59cb5a49cea9e3c787b1317cdd",
      "6f0576a94a074245aac82fbb6154d1c0",
      "d5afbe955e284577bbf8cbd385ea9051",
      "0e41488599e547e8b281997c858f1d2f",
      "bbb09952e2ee41d3ad6be62f6d72a965",
      "2654592258db4f7e8f51c6ebe988d502",
      "6709c547957c4675b30a07312577878d",
      "dd0efccf124d40ae8b6bb6a0d6964e3e",
      "63a7e68a1c2a43acb43af02b7b773d92",
      "458c7c2a9a4f407298b1f9caf572d288",
      "af902058797d4e4aabded37e043d1238",
      "ed6ce8be77ef451294079bbdf9bcdeaf",
      "1cf7f9fe51f748289688fdc34e640e0e",
      "d432155f336f4d78ac35cb7315fcf172",
      "ccd1aa16fa1c4f0f9a5a15b81cc9b4d9",
      "5747c538285a4c06a9ad472139f2bbad",
      "8ecfca81dff24d93ae277e044fb3cc0b",
      "d8de14ed92154af5aaa4d582b1e00c20",
      "f8d70d13776b4d8ab14a612917d76fcd",
      "9a4edebe122c48289ee66a15c1a052e9",
      "75354104b6eb4b73a902c77623ef3c6b",
      "27de79de70354bc4a65947d63c1eb213",
      "ca4858a9308f44c19300075f23f3770f",
      "0e0cf1d4debb437794df1b43f88a42f8",
      "a3374e91a7ff42cb838ae53c38c270cc",
      "d42f0def57b84cdcbd9b9e566f1d215b",
      "5181a91093f74127aa96d39b9d58d824",
      "003c165dda844c8ba4959cd126b30fef",
      "498af99f1b2b46b9987a2e8595846513",
      "9350e60e7bc44fc2a77d9c13b232c441",
      "c472e582bcc848dc85cf4d71f747988b",
      "4c91391ac698405a846e9ea23d353648",
      "aa80e1c209cf46d4b0f14c1cf42cd56c",
      "fcb769c9eb9341b3a22586242f340513",
      "42f9923e9b89401ebfd2c9cc7748b1c4",
      "e0ed3172773d4b63a4af3ec3d6e3166b",
      "0bd60be3df124f4abf067d7c529c2b09",
      "95b1c7e21d3c49389d43bc2c0e560169",
      "a21e823c40df48788bf9122850b2327b",
      "847123d6f38a43c0b6999b8fa35393e5",
      "ee4467dd9aed48818bae96fffa710999",
      "a06fe90812de45c295dd36ff52c3b60d",
      "8dec3aa2792c40bfb12f82afb4ad1228",
      "b0fdd40ba63e4b99ad8b230cd763abea",
      "df498b02bc0245e1b3f6a0b6cf6d7125",
      "e0497945bfa54d5cb0e22a1f9e4020cc",
      "d74e6a4f3a1542d49a3ea5b60ffdeff5",
      "88971ee9bc054051a8293054db0e6d82",
      "3ee36488098045e69f52ac52c996f820",
      "b506995474d7430584ba7ca908d9ee04",
      "b7837518a5cc4b75bc8071f537700383"
     ]
    },
    "id": "KZtPFcJAU48u",
    "outputId": "4bddfa8c-ccf6-4009-e27d-723741430378"
   },
   "outputs": [
    {
     "data": {
      "application/vnd.jupyter.widget-view+json": {
       "model_id": "0e285ab4896f40bb9974f55bbe410c9a",
       "version_major": 2,
       "version_minor": 0
      },
      "text/plain": [
       "tokenizer_config.json:   0%|          | 0.00/55.4k [00:00<?, ?B/s]"
      ]
     },
     "metadata": {},
     "output_type": "display_data"
    },
    {
     "data": {
      "application/vnd.jupyter.widget-view+json": {
       "model_id": "fa776374cb9149e0af35aadc00aa385e",
       "version_major": 2,
       "version_minor": 0
      },
      "text/plain": [
       "tokenizer.json:   0%|          | 0.00/9.09M [00:00<?, ?B/s]"
      ]
     },
     "metadata": {},
     "output_type": "display_data"
    },
    {
     "data": {
      "application/vnd.jupyter.widget-view+json": {
       "model_id": "f1d16361f2134d78b65c88bd14b62667",
       "version_major": 2,
       "version_minor": 0
      },
      "text/plain": [
       "special_tokens_map.json:   0%|          | 0.00/296 [00:00<?, ?B/s]"
      ]
     },
     "metadata": {},
     "output_type": "display_data"
    },
    {
     "data": {
      "application/vnd.jupyter.widget-view+json": {
       "model_id": "417d8b8027a5408283d52818deb733ee",
       "version_major": 2,
       "version_minor": 0
      },
      "text/plain": [
       "config.json:   0%|          | 0.00/855 [00:00<?, ?B/s]"
      ]
     },
     "metadata": {},
     "output_type": "display_data"
    },
    {
     "data": {
      "application/vnd.jupyter.widget-view+json": {
       "model_id": "c17abee0306044fabe849c93253d76e5",
       "version_major": 2,
       "version_minor": 0
      },
      "text/plain": [
       "model.safetensors.index.json:   0%|          | 0.00/23.9k [00:00<?, ?B/s]"
      ]
     },
     "metadata": {},
     "output_type": "display_data"
    },
    {
     "data": {
      "application/vnd.jupyter.widget-view+json": {
       "model_id": "03549c651f964b1f924fe201eec7e641",
       "version_major": 2,
       "version_minor": 0
      },
      "text/plain": [
       "Fetching 4 files:   0%|          | 0/4 [00:00<?, ?it/s]"
      ]
     },
     "metadata": {},
     "output_type": "display_data"
    },
    {
     "data": {
      "application/vnd.jupyter.widget-view+json": {
       "model_id": "a67f561e05d54c08873c9b7879a4f962",
       "version_major": 2,
       "version_minor": 0
      },
      "text/plain": [
       "model-00001-of-00004.safetensors:   0%|          | 0.00/4.98G [00:00<?, ?B/s]"
      ]
     },
     "metadata": {},
     "output_type": "display_data"
    },
    {
     "data": {
      "application/vnd.jupyter.widget-view+json": {
       "model_id": "5774fff7f7594fc8ae83f175c5b72ad5",
       "version_major": 2,
       "version_minor": 0
      },
      "text/plain": [
       "model-00004-of-00004.safetensors:   0%|          | 0.00/1.17G [00:00<?, ?B/s]"
      ]
     },
     "metadata": {},
     "output_type": "display_data"
    },
    {
     "data": {
      "application/vnd.jupyter.widget-view+json": {
       "model_id": "dd0efccf124d40ae8b6bb6a0d6964e3e",
       "version_major": 2,
       "version_minor": 0
      },
      "text/plain": [
       "model-00003-of-00004.safetensors:   0%|          | 0.00/4.92G [00:00<?, ?B/s]"
      ]
     },
     "metadata": {},
     "output_type": "display_data"
    },
    {
     "data": {
      "application/vnd.jupyter.widget-view+json": {
       "model_id": "f8d70d13776b4d8ab14a612917d76fcd",
       "version_major": 2,
       "version_minor": 0
      },
      "text/plain": [
       "model-00002-of-00004.safetensors:   0%|          | 0.00/5.00G [00:00<?, ?B/s]"
      ]
     },
     "metadata": {},
     "output_type": "display_data"
    },
    {
     "data": {
      "application/vnd.jupyter.widget-view+json": {
       "model_id": "9350e60e7bc44fc2a77d9c13b232c441",
       "version_major": 2,
       "version_minor": 0
      },
      "text/plain": [
       "Loading checkpoint shards:   0%|          | 0/4 [00:00<?, ?it/s]"
      ]
     },
     "metadata": {},
     "output_type": "display_data"
    },
    {
     "data": {
      "application/vnd.jupyter.widget-view+json": {
       "model_id": "ee4467dd9aed48818bae96fffa710999",
       "version_major": 2,
       "version_minor": 0
      },
      "text/plain": [
       "generation_config.json:   0%|          | 0.00/184 [00:00<?, ?B/s]"
      ]
     },
     "metadata": {},
     "output_type": "display_data"
    },
    {
     "name": "stdout",
     "output_type": "stream",
     "text": [
      "Model loaded successfully on cuda:0\n"
     ]
    }
   ],
   "source": [
    "MODEL = \"meta-llama/Llama-3.1-8B-Instruct\"\n",
    "hf_token=userdata.get('HF_TOKEN')\n",
    "login(hf_token, add_to_git_credential=True)\n",
    "\n",
    "quant_config = BitsAndBytesConfig(\n",
    "    load_in_4bit=True,\n",
    "    bnb_4bit_use_double_quant=True,\n",
    "    bnb_4bit_compute_dtype=torch.bfloat16,\n",
    "    bnb_4bit_quant_type=\"nf4\"\n",
    ")\n",
    "\n",
    "tokenizer = AutoTokenizer.from_pretrained(MODEL, trust_remote_code=True)\n",
    "tokenizer.pad_token = tokenizer.eos_token\n",
    "\n",
    "model = AutoModelForCausalLM.from_pretrained(\n",
    "    MODEL,\n",
    "    device_map=\"auto\",\n",
    "    quantization_config=quant_config\n",
    ")\n",
    "\n",
    "print(f\"Model loaded successfully on {model.device}\")"
   ]
  },
  {
   "cell_type": "code",
   "execution_count": 35,
   "metadata": {
    "colab": {
     "base_uri": "https://localhost:8080/"
    },
    "id": "D-0RisMyU8Mj",
    "outputId": "2e521caa-8bb3-4436-9d3a-4fbd8bcc66e2"
   },
   "outputs": [
    {
     "name": "stdout",
     "output_type": "stream",
     "text": [
      "LlamaForCausalLM(\n",
      "  (model): LlamaModel(\n",
      "    (embed_tokens): Embedding(128256, 4096)\n",
      "    (layers): ModuleList(\n",
      "      (0-31): 32 x LlamaDecoderLayer(\n",
      "        (self_attn): LlamaAttention(\n",
      "          (q_proj): Linear4bit(in_features=4096, out_features=4096, bias=False)\n",
      "          (k_proj): Linear4bit(in_features=4096, out_features=1024, bias=False)\n",
      "          (v_proj): Linear4bit(in_features=4096, out_features=1024, bias=False)\n",
      "          (o_proj): Linear4bit(in_features=4096, out_features=4096, bias=False)\n",
      "        )\n",
      "        (mlp): LlamaMLP(\n",
      "          (gate_proj): Linear4bit(in_features=4096, out_features=14336, bias=False)\n",
      "          (up_proj): Linear4bit(in_features=4096, out_features=14336, bias=False)\n",
      "          (down_proj): Linear4bit(in_features=14336, out_features=4096, bias=False)\n",
      "          (act_fn): SiLU()\n",
      "        )\n",
      "        (input_layernorm): LlamaRMSNorm((4096,), eps=1e-05)\n",
      "        (post_attention_layernorm): LlamaRMSNorm((4096,), eps=1e-05)\n",
      "      )\n",
      "    )\n",
      "    (norm): LlamaRMSNorm((4096,), eps=1e-05)\n",
      "    (rotary_emb): LlamaRotaryEmbedding()\n",
      "  )\n",
      "  (lm_head): Linear(in_features=4096, out_features=128256, bias=False)\n",
      ")\n"
     ]
    }
   ],
   "source": [
    "#Looking at the model's architecture\n",
    "print(model)"
   ]
  },
  {
   "cell_type": "code",
   "execution_count": 44,
   "metadata": {
    "colab": {
     "base_uri": "https://localhost:8080/"
    },
    "id": "IrSRYfoRU-Zf",
    "outputId": "0ac4f3c0-77ca-4f1d-c1a6-322b472fd468"
   },
   "outputs": [
    {
     "name": "stdout",
     "output_type": "stream",
     "text": [
      "MODEL STATISTICS:\n",
      "Total Parameters= 4,540,600,320\n",
      "Trainable Parameters= 1,050,939,392\n",
      "Vocabulary Size= 128,000\n",
      "\n",
      "KEY ARCHITECTURE STATISTICS:\n",
      "Hidden Size= 4096\n",
      "Number of Layers= 32\n",
      "Attention Heads= 32\n",
      "FFN Intermediate Size= 14336\n",
      "Max Sequence Length= 131072\n",
      "Vocabulary Size= 128,256\n"
     ]
    }
   ],
   "source": [
    "total_params = sum(p.numel() for p in model.parameters())\n",
    "trainable_params = sum(p.numel() for p in model.parameters() if p.requires_grad)\n",
    "\n",
    "print(\"MODEL STATISTICS:\")\n",
    "print(f\"Total Parameters= {total_params:,}\")\n",
    "#this will print 4.5B parameters even though the model has 8B because of 4-bit quantization. It's the same model, just compressed.\n",
    "print(f\"Trainable Parameters= {trainable_params:,}\")\n",
    "print(f\"Vocabulary Size= {tokenizer.vocab_size:,}\")\n",
    "\n",
    "config = model.config\n",
    "\n",
    "print(\"\\nKEY ARCHITECTURE STATISTICS:\")\n",
    "print(f\"Hidden Size= {config.hidden_size}\")\n",
    "print(f\"Number of Layers= {config.num_hidden_layers}\")\n",
    "print(f\"Attention Heads= {config.num_attention_heads}\")\n",
    "print(f\"FFN Intermediate Size= {config.intermediate_size}\")\n",
    "print(f\"Max Sequence Length= {config.max_position_embeddings}\")\n",
    "print(f\"Vocabulary Size= {config.vocab_size:,}\")"
   ]
  },
  {
   "cell_type": "markdown",
   "metadata": {
    "id": "sti1RhhAVHdR"
   },
   "source": [
    "### Visualization 1: Parameter Distribution Across Model Components"
   ]
  },
  {
   "cell_type": "code",
   "execution_count": 45,
   "metadata": {
    "colab": {
     "base_uri": "https://localhost:8080/",
     "height": 469
    },
    "id": "Q1jTR64LVH8d",
    "outputId": "1fb634a8-a35c-4cde-bbbf-62fdbcb61091"
   },
   "outputs": [
    {
     "data": {
      "image/png": "[encoded data removed]",
      "text/plain": [
       "<Figure size 640x480 with 1 Axes>"
      ]
     },
     "metadata": {},
     "output_type": "display_data"
    },
    {
     "name": "stdout",
     "output_type": "stream",
     "text": [
      "Total: 4,015,259,648 parameters\n"
     ]
    }
   ],
   "source": [
    "embed_params = model.model.embed_tokens.weight.numel()\n",
    "\n",
    "sample_layer = model.model.layers[0]\n",
    "attn_params = sum(p.numel() for p in sample_layer.self_attn.parameters()) * config.num_hidden_layers\n",
    "ffn_params = sum(p.numel() for p in sample_layer.mlp.parameters()) * config.num_hidden_layers\n",
    "ln_params = (sum(p.numel() for p in sample_layer.input_layernorm.parameters()) +\n",
    "             sum(p.numel() for p in sample_layer.post_attention_layernorm.parameters())) * config.num_hidden_layers\n",
    "\n",
    "params = {\"Embeddings\": embed_params, \"Attention\": attn_params, \"Feed-Forward\": ffn_params, \"Layer Norm\": ln_params}\n",
    "\n",
    "bars =plt.bar(params.keys(), params.values())\n",
    "plt.bar_label(bars, labels=[f\"{v/1e6:.1f}M\" for v in params.values()])\n",
    "plt.ylabel(\"Number of Parameters\")\n",
    "plt.title(\"Parameter Distribution Across Model Components\")\n",
    "plt.ticklabel_format(style='plain', axis='y')\n",
    "plt.show()\n",
    "\n",
    "print(f\"Total: {sum(params.values()):,} parameters\")"
   ]
  },
  {
   "cell_type": "markdown",
   "metadata": {
    "id": "ARJxVl-aVPI_"
   },
   "source": [
    "### Visualization 2: Single Layer Parameter Breakdown"
   ]
  },
  {
   "cell_type": "code",
   "execution_count": 46,
   "metadata": {
    "colab": {
     "base_uri": "https://localhost:8080/",
     "height": 487
    },
    "id": "LZy74xHFVPxG",
    "outputId": "ee3afd8c-3e75-4323-ace6-1e3d4f69c7d1"
   },
   "outputs": [
    {
     "data": {
      "image/png": "[encoded data removed]",
      "text/plain": [
       "<Figure size 640x480 with 1 Axes>"
      ]
     },
     "metadata": {},
     "output_type": "display_data"
    },
    {
     "name": "stdout",
     "output_type": "stream",
     "text": [
      "Parameters per layer: 109,060,096\n",
      "Total for 32 layers: 3,489,923,072\n"
     ]
    }
   ],
   "source": [
    "attn_per_layer = sum(p.numel() for p in sample_layer.self_attn.parameters())\n",
    "ffn_per_layer = sum(p.numel() for p in sample_layer.mlp.parameters())\n",
    "ln_per_layer = (sum(p.numel() for p in sample_layer.input_layernorm.parameters()) +\n",
    "                sum(p.numel() for p in sample_layer.post_attention_layernorm.parameters()))\n",
    "\n",
    "layer_params = {\"Self-Attention\": attn_per_layer, \"Feed-Forward\": ffn_per_layer, \"Layer Norm\": ln_per_layer}\n",
    "\n",
    "bars = plt.bar(layer_params.keys(), layer_params.values())\n",
    "plt.bar_label(bars, labels=[f\"{int(v)/1e6:.1f}M\" for v in layer_params.values()])\n",
    "plt.ylabel(\"Parameters per Layer\")\n",
    "plt.title(\"Single Transformer Layer Parameter Breakdown\")\n",
    "plt.ticklabel_format(style='plain', axis='y')\n",
    "plt.show()\n",
    "\n",
    "total_per_layer = sum(layer_params.values())\n",
    "total_all_layers = total_per_layer * config.num_hidden_layers\n",
    "print(f\"Parameters per layer: {total_per_layer:,}\")\n",
    "print(f\"Total for {config.num_hidden_layers} layers: {total_all_layers:,}\")"
   ]
  },
  {
   "cell_type": "markdown",
   "metadata": {
    "id": "Ppe1COsP-jL0"
   },
   "source": [
    "### Visualization 3: Next Token Predictor"
   ]
  },
  {
   "cell_type": "code",
   "execution_count": 47,
   "metadata": {
    "colab": {
     "base_uri": "https://localhost:8080/",
     "height": 607
    },
    "id": "AeF6d1VZ1Hjv",
    "outputId": "22945b4d-a719-41a4-b58f-5fd6f0d6e7a0"
   },
   "outputs": [
    {
     "data": {
      "image/png": "[encoded data removed]",
      "text/plain": [
       "<Figure size 1300x600 with 1 Axes>"
      ]
     },
     "metadata": {},
     "output_type": "display_data"
    }
   ],
   "source": [
    "prompt = \"The capital of Italy is\"\n",
    "\n",
    "inputs = tokenizer(prompt, return_tensors=\"pt\").to(model.device)\n",
    "\n",
    "with torch.no_grad():\n",
    "    outputs = model(**inputs)\n",
    "    logits = outputs.logits\n",
    "\n",
    "next_token_logits = logits[0, -1, :]\n",
    "probs = F.softmax(next_token_logits, dim=-1)\n",
    "\n",
    "top_k = 10\n",
    "top_probs, top_indices = torch.topk(probs, top_k)\n",
    "\n",
    "tokens = [tokenizer.decode([idx]) for idx in top_indices]\n",
    "probs_percent = [p.item() * 100 for p in top_probs]\n",
    "\n",
    "fig = plt.figure(figsize=(13, 6))\n",
    "bars = plt.barh(tokens[::-1], probs_percent[::-1])\n",
    "plt.xlabel('Probability (%)')\n",
    "plt.title(f'Top {top_k} Next Token Predictions')\n",
    "plt.bar_label(bars, fmt=\"%.2f%%\")\n",
    "plt.tight_layout()\n",
    "plt.show()"
   ]
  },
  {
   "cell_type": "code",
   "execution_count": 48,
   "metadata": {
    "colab": {
     "base_uri": "https://localhost:8080/"
    },
    "id": "RjImMsFoVXLo",
    "outputId": "1acc2354-412a-46c1-d6bd-43dbe99f81e2"
   },
   "outputs": [
    {
     "name": "stderr",
     "output_type": "stream",
     "text": [
      "The attention mask and the pad token id were not set. As a consequence, you may observe unexpected behavior. Please pass your input's `attention_mask` to obtain reliable results.\n",
      "Setting `pad_token_id` to `eos_token_id`:128001 for open-end generation.\n"
     ]
    },
    {
     "name": "stdout",
     "output_type": "stream",
     "text": [
      "\n",
      "\n",
      "**The Dawn of a New Era: Unveiling the Mystique of Artificial Intelligence**\n",
      "\n",
      "As we navigate the uncharted territories of the 21st century, one phenomenon has been making waves, captivating the imagination of scientists, philosophers, and the general public alike – Artificial Intelligence (AI). This revolutionary technology, born from the marriage of human ingenuity and computational prowess, has been steadily evolving, transforming the way we live, work, and interact with one another. With AI, machines can now learn, reason, and adapt at an unprecedented pace, rendering them capable of tackling complex tasks that were once the exclusive domain of humans. From the intuitive chatbots that assist us in our daily lives to the sophisticated algorithms that drive self-driving cars, AI has become an integral part of our modern landscape, poised to redefine the boundaries of innovation and propel us toward a future where the distinction between man and machine becomes increasingly blurred. As we continue to explore the vast possibilities of AI, one thing is certain – the world will never be the same again.<|eot_id|>\n"
     ]
    }
   ],
   "source": [
    "#generation test\n",
    "test_prompt = \"Write an paragraph on the topic of AI\"\n",
    "system_prompt = \"You are a creative writer that writes anything from paragraphs to entire blogs\"\n",
    "messages = [\n",
    "    {\"role\": \"system\", \"content\": system_prompt},\n",
    "    {\"role\": \"user\", \"content\": test_prompt}\n",
    "]\n",
    "\n",
    "inputs = tokenizer.apply_chat_template(messages, add_generation_prompt=True,return_tensors=\"pt\").to(model.device)\n",
    "\n",
    "outputs = model.generate(inputs,max_new_tokens=300)\n",
    "result = tokenizer.decode(outputs[0])\n",
    "content = result.split(\"assistant<|end_header_id|>\")[1]\n",
    "\n",
    "print(content)"
   ]
  },
  {
   "cell_type": "markdown",
   "metadata": {
    "id": "MdkUsvH0VdB7"
   },
   "source": [
    "## 4. Prompt Engineering - Style Templates"
   ]
  },
  {
   "cell_type": "code",
   "execution_count": 53,
   "metadata": {
    "id": "zzsxVLLAVdmz"
   },
   "outputs": [],
   "source": [
    "STYLE_PROMPTS = {\n",
    "    \"Technical/Professional\": \"\"\"Write a clear and professional blog post on the topic: {topic}\n",
    "    Keep the language and tone professional, use technical terms correctly, and structure the content so it makes sense logically and with relevant details\"\"\",\n",
    "\n",
    "    \"Casual/Conversational\": \"\"\"Write a casual blog post on the topic: {topic}\n",
    "    Keep the tone friendly and conversational, use simple words and give relatable examples like you're talking to your friend\"\"\",\n",
    "\n",
    "    \"Academic/Research\": \"\"\"Write an academic blog post on the topic: {topic}\n",
    "    Use formal language, present nuanced analysis, and maintain high standards of intellectuality and stick to sound logic and evidence\"\"\",\n",
    "\n",
    "    \"Marketing/Persuasive\": \"\"\"Write an persuasive blog post on the topic: {topic}\n",
    "    Focus on getting the reader engaged, highlight the benefits, and use a attention captivating tone to create excitement\"\"\",\n",
    "\n",
    "    \"Storytelling/Creative\": \"\"\"Write a creative blog post on the topic: {topic}\n",
    "    Use clear descriptions, tell a story and focus on making the content engaging and imaginative\"\"\"\n",
    "}"
   ]
  },
  {
   "cell_type": "code",
   "execution_count": 55,
   "metadata": {
    "colab": {
     "base_uri": "https://localhost:8080/"
    },
    "id": "3BiO5b3IVljK",
    "outputId": "41ee8e90-2c9d-4b7c-adfe-719e1d952980"
   },
   "outputs": [
    {
     "name": "stderr",
     "output_type": "stream",
     "text": [
      "The attention mask and the pad token id were not set. As a consequence, you may observe unexpected behavior. Please pass your input's `attention_mask` to obtain reliable results.\n",
      "Setting `pad_token_id` to `eos_token_id`:128001 for open-end generation.\n"
     ]
    },
    {
     "name": "stdout",
     "output_type": "stream",
     "text": [
      "\n",
      "\n",
      "**The Social Media Effect: How Our Online Lives Are Shaping Society**\n",
      "\n",
      "Hey friends, let's talk about something that's probably on your mind a lot these days: social media. We're all guilty of scrolling through our feeds, comparing our lives to others, and feeling like we're not doing enough. But have you ever stopped to think about how social media is actually impacting our society?\n",
      "\n",
      "From the way we communicate to the way we spend our time, social media is changing the game. And while it's not all bad, we need to acknowledge the potential downsides and make some changes.\n",
      "\n",
      "**The Good Stuff**\n",
      "\n",
      "Let's start with the positives. Social media has connected us in ways we never thought possible. We can stay in touch with friends and family who live far away, join communities of people with similar interests, and even find support groups for mental health. It's amazing to think about how much more connected we are today than we were just a decade ago.\n",
      "\n",
      "Take, for example, the rise of online activism. Social media has given a voice to marginalized communities and allowed people to mobilize around causes they care about. The #MeToo movement, the Black Lives Matter movement – these are just a few examples of how social media has helped bring attention to important issues.\n",
      "\n",
      "**The Not-So-Good Stuff**\n",
      "\n",
      "But social media isn't all sunshine and rainbows. There are some serious concerns we need to talk about. For one, social media can be a major time-suck. We're talking about hours, even days, spent scrolling through our feeds, comparing our lives to others, and feeling like we're not good enough.\n",
      "\n",
      "And then there's the issue of mental health. Studies have shown that excessive social media use can lead to anxiety, depression, and even loneliness. It's like we're comparing our behind-the-scenes moments to everyone else's highlight reels.\n",
      "\n",
      "**Taking Back Control**\n",
      "\n",
      "So, what can we do? First, let's acknowledge that social media is a tool – and like any tool, it can be used for good or bad. We need to be mindful of how we're using it and set some boundaries.\n",
      "\n",
      "Here are a few tips to get you started:\n",
      "\n",
      "*   Set a daily time limit for social media use\n",
      "*   Use apps that track and limit your screen time\n",
      "*   Take breaks from social media altogether (yes, it's okay to take a digital detox!)\n",
      "*   Follow accounts that inspire and uplift you, rather than comparing yourself to others\n",
      "\n",
      "**The Future of Social Media**\n",
      "\n",
      "As we move forward, it's essential to have a conversation about the impact of social media on society. We need to think critically about how we're using these platforms and make changes that promote positive outcomes.\n",
      "\n",
      "So, what do you think? How do you use social media, and what changes do you think we need to make? Let's chat in the comments below!\n",
      "\n",
      "By being more mindful of our social media use and setting some boundaries, we can create a healthier, more positive online community that benefits everyone.\n"
     ]
    }
   ],
   "source": [
    "def generate_blog(topic, style, max_length=500):\n",
    "    user_prompt = STYLE_PROMPTS[style].format(topic=topic)\n",
    "    system_prompt = f\"You write blogs with maximum word count of {max_length}. Always respond only with the complete blog content. Do not include any added explanations, notes, or extra text. Only the blog itself\"\n",
    "    messages = [\n",
    "        {\"role\": \"system\", \"content\": system_prompt},\n",
    "        {\"role\": \"user\", \"content\": user_prompt}\n",
    "    ]\n",
    "    inputs = tokenizer.apply_chat_template(messages, add_generation_prompt=True, return_tensors=\"pt\").to(model.device)\n",
    "\n",
    "    outputs = model.generate(inputs, max_new_tokens=(max_length*2))\n",
    "    result = tokenizer.decode(outputs[0])\n",
    "    content = result.split(\"assistant<|end_header_id|>\")[1]\n",
    "    content = content.split(\"<|eot_id|>\")\n",
    "    blog = content[0]\n",
    "    return blog\n",
    "\n",
    "topic = \"The impact of social media on society\"\n",
    "style = \"Casual/Conversational\"\n",
    "\n",
    "blog_post = generate_blog(topic, style)\n",
    "print(blog_post)"
   ]
  },
  {
   "cell_type": "markdown",
   "metadata": {
    "id": "uIL7tKtNVnRz"
   },
   "source": [
    "## 5. Interactive Gradio Interface"
   ]
  },
  {
   "cell_type": "code",
   "execution_count": 59,
   "metadata": {
    "colab": {
     "base_uri": "https://localhost:8080/",
     "height": 646
    },
    "id": "qhAuzP5LVpdt",
    "outputId": "49c17367-7642-4440-8d91-a60ef0e45406"
   },
   "outputs": [
    {
     "name": "stdout",
     "output_type": "stream",
     "text": [
      "It looks like you are running Gradio on a hosted Jupyter notebook, which requires `share=True`. Automatically setting `share=True` (you can turn this off by setting `share=False` in `launch()` explicitly).\n",
      "\n",
      "Colab notebook detected. To show errors in colab notebook, set debug=True in launch()\n",
      "* Running on public URL: https://c5f9ec226bc57ec8d6.gradio.live\n",
      "\n",
      "This share link expires in 1 week. For free permanent hosting and GPU upgrades, run `gradio deploy` from the terminal in the working directory to deploy to Hugging Face Spaces (https://huggingface.co/spaces)\n"
     ]
    },
    {
     "data": {
      "text/html": [
       "<div><iframe src=\"https://c5f9ec226bc57ec8d6.gradio.live\" width=\"100%\" height=\"500\" allow=\"autoplay; camera; microphone; clipboard-read; clipboard-write;\" frameborder=\"0\" allowfullscreen></iframe></div>"
      ],
      "text/plain": [
       "<IPython.core.display.HTML object>"
      ]
     },
     "metadata": {},
     "output_type": "display_data"
    },
    {
     "data": {
      "text/plain": []
     },
     "execution_count": 59,
     "metadata": {},
     "output_type": "execute_result"
    }
   ],
   "source": [
    "def generate_blog(topic, style, max_length=500):\n",
    "    if not topic.strip():\n",
    "        return \"Please enter a topic!\"\n",
    "\n",
    "    system_prompt = (\n",
    "        f\"You write blogs with a maximum word count of {max_length}. \"\n",
    "        f\"Always respond only with the complete blog content in **Markdown format**. \"\n",
    "        f\"Do not include any added explanations, notes, or extra text. Only the blog itself.\"\n",
    "    )\n",
    "    user_prompt = STYLE_PROMPTS[style].format(topic=topic)\n",
    "    messages = [\n",
    "        {\"role\": \"system\", \"content\": system_prompt},\n",
    "        {\"role\": \"user\", \"content\": user_prompt}\n",
    "    ]\n",
    "    inputs = tokenizer.apply_chat_template(messages, add_generation_prompt=True, return_tensors=\"pt\").to(model.device)\n",
    "\n",
    "    outputs = model.generate(inputs, max_new_tokens=(max_length*2))\n",
    "\n",
    "    result = tokenizer.decode(outputs[0])\n",
    "    content = result.split(\"assistant<|end_header_id|>\")[1]\n",
    "    blog = content.split(\"<|eot_id|>\")[0].strip()\n",
    "    return blog\n",
    "\n",
    "with gr.Blocks() as demo:\n",
    "    with gr.Row():\n",
    "        with gr.Column(scale=1):\n",
    "            topic_input = gr.Textbox(label=\"Blog Topic\", placeholder=\"Enter blog topic...\")\n",
    "            style_dropdown = gr.Dropdown(list(STYLE_PROMPTS.keys()), value=\"Casual/Conversational\", label=\"Style\")\n",
    "            length_input = gr.Number(value=500, label=\"Max Word Count\")\n",
    "            generate_btn = gr.Button(\"Generate Blog\")\n",
    "\n",
    "        with gr.Column(scale=2):\n",
    "            output_md = gr.Markdown(label=\"Generated Blog\")\n",
    "\n",
    "    generate_btn.click(generate_blog, inputs=[topic_input, style_dropdown, length_input], outputs=output_md)\n",
    "\n",
    "demo.launch(inbrowser=True)"
   ]
  }
 ],
 "metadata": {
  "accelerator": "GPU",
  "colab": {
   "gpuType": "T4",
   "provenance": []
  },
  "kernelspec": {
   "display_name": "Python 3",
   "name": "python3"
  },
  "language_info": {
   "name": "python"
  }
 },
 "nbformat": 4,
 "nbformat_minor": 0
}
